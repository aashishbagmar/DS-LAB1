{
 "cells": [
  {
   "cell_type": "markdown",
   "id": "9ff91d8c",
   "metadata": {},
   "source": [
    "# Assignment 8 - Titanic Data Visualization"
   ]
  },
  {
   "cell_type": "code",
   "execution_count": null,
   "id": "6575eb79",
   "metadata": {},
   "outputs": [],
   "source": [
    "\n",
    "import seaborn as sns\n",
    "import matplotlib.pyplot as plt\n",
    "\n",
    "# Load the Titanic dataset\n",
    "titanic = sns.load_dataset('titanic')\n",
    "\n",
    "# Display the first few rows of the dataset\n",
    "print(titanic.head())\n"
   ]
  },
  {
   "cell_type": "code",
   "execution_count": null,
   "id": "2b2dc3b7",
   "metadata": {},
   "outputs": [],
   "source": [
    "\n",
    "# Visualizing the relationship between age and survival\n",
    "sns.scatterplot(data=titanic, x='age', y='survived', hue='sex')\n",
    "plt.title('Age vs Survival')\n",
    "plt.show()\n"
   ]
  },
  {
   "cell_type": "code",
   "execution_count": null,
   "id": "894677df",
   "metadata": {},
   "outputs": [],
   "source": [
    "\n",
    "# Boxplot for 'fare' by 'class'\n",
    "sns.boxplot(data=titanic, x='class', y='fare')\n",
    "plt.title('Fare Distribution by Class')\n",
    "plt.show()\n"
   ]
  },
  {
   "cell_type": "code",
   "execution_count": null,
   "id": "ace5efab",
   "metadata": {},
   "outputs": [],
   "source": [
    "\n",
    "# Countplot for survival by gender\n",
    "sns.countplot(data=titanic, x='survived', hue='sex')\n",
    "plt.title('Survival by Gender')\n",
    "plt.show()\n"
   ]
  },
  {
   "cell_type": "code",
   "execution_count": null,
   "id": "1a90d9de",
   "metadata": {},
   "outputs": [],
   "source": [
    "\n",
    "# Histogram of the 'fare' column\n",
    "sns.histplot(titanic['fare'], kde=True, bins=30)\n",
    "plt.title('Distribution of Fare')\n",
    "plt.xlabel('Fare')\n",
    "plt.ylabel('Frequency')\n",
    "plt.show()\n"
   ]
  }
 ],
 "metadata": {},
 "nbformat": 4,
 "nbformat_minor": 5
}
