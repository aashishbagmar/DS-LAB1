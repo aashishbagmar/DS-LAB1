{
 "cells": [
  {
   "cell_type": "markdown",
   "id": "52ba5be4",
   "metadata": {},
   "source": [
    "# Assignment 10 - Iris Dataset Visualization"
   ]
  },
  {
   "cell_type": "code",
   "execution_count": null,
   "id": "32ae3c50",
   "metadata": {},
   "outputs": [],
   "source": [
    "\n",
    "import seaborn as sns\n",
    "import matplotlib.pyplot as plt\n",
    "import pandas as pd\n",
    "\n",
    "# Load iris dataset\n",
    "iris = sns.load_dataset('iris')\n",
    "\n",
    "# Show the first few rows\n",
    "print(iris.head())\n",
    "\n",
    "print(\"Features and data types:\")\n",
    "print(iris.dtypes)\n",
    "\n",
    "print(\"\\nBasic info:\")\n",
    "print(iris.info())\n",
    "\n",
    "print(\"\\nSummary statistics:\")\n",
    "print(iris.describe(include='all'))\n"
   ]
  },
  {
   "cell_type": "code",
   "execution_count": null,
   "id": "d4102a1f",
   "metadata": {},
   "outputs": [],
   "source": [
    "\n",
    "# Histograms of numeric features\n",
    "iris.hist(edgecolor='black', figsize=(10, 8))\n",
    "plt.suptitle(\"Histograms of Iris Dataset Features\")\n",
    "plt.show()\n"
   ]
  },
  {
   "cell_type": "code",
   "execution_count": null,
   "id": "de998ad1",
   "metadata": {},
   "outputs": [],
   "source": [
    "\n",
    "# Drop categorical column and create boxplots\n",
    "numeric_cols = iris.drop(columns=['species'])\n",
    "plt.figure(figsize=(10, 6))\n",
    "sns.boxplot(data=numeric_cols)\n",
    "plt.title(\"Boxplot of Iris Dataset Features\")\n",
    "plt.show()\n"
   ]
  }
 ],
 "metadata": {},
 "nbformat": 4,
 "nbformat_minor": 5
}
