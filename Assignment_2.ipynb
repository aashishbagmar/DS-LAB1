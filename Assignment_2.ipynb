{
 "cells": [
  {
   "cell_type": "code",
   "execution_count": 13,
   "id": "1db077dc-3aad-401d-b784-cde8f0018291",
   "metadata": {},
   "outputs": [],
   "source": [
    "import pandas as pd\n",
    "import numpy as np"
   ]
  },
  {
   "cell_type": "code",
   "execution_count": 14,
   "id": "701d9b6b-a635-48f2-b509-81302bea6c82",
   "metadata": {},
   "outputs": [
    {
     "data": {
      "text/html": [
       "<div>\n",
       "<style scoped>\n",
       "    .dataframe tbody tr th:only-of-type {\n",
       "        vertical-align: middle;\n",
       "    }\n",
       "\n",
       "    .dataframe tbody tr th {\n",
       "        vertical-align: top;\n",
       "    }\n",
       "\n",
       "    .dataframe thead th {\n",
       "        text-align: right;\n",
       "    }\n",
       "</style>\n",
       "<table border=\"1\" class=\"dataframe\">\n",
       "  <thead>\n",
       "    <tr style=\"text-align: right;\">\n",
       "      <th></th>\n",
       "      <th>Stutent_ID</th>\n",
       "      <th>Math_Score</th>\n",
       "      <th>Reading_Score</th>\n",
       "      <th>Hours_Studied</th>\n",
       "    </tr>\n",
       "  </thead>\n",
       "  <tbody>\n",
       "    <tr>\n",
       "      <th>0</th>\n",
       "      <td>1</td>\n",
       "      <td>76.0</td>\n",
       "      <td>82</td>\n",
       "      <td>2.0</td>\n",
       "    </tr>\n",
       "    <tr>\n",
       "      <th>1</th>\n",
       "      <td>2</td>\n",
       "      <td>85.0</td>\n",
       "      <td>65</td>\n",
       "      <td>4.0</td>\n",
       "    </tr>\n",
       "    <tr>\n",
       "      <th>2</th>\n",
       "      <td>3</td>\n",
       "      <td>34.0</td>\n",
       "      <td>23</td>\n",
       "      <td>2.0</td>\n",
       "    </tr>\n",
       "    <tr>\n",
       "      <th>3</th>\n",
       "      <td>4</td>\n",
       "      <td>96.0</td>\n",
       "      <td>46</td>\n",
       "      <td>3.0</td>\n",
       "    </tr>\n",
       "    <tr>\n",
       "      <th>4</th>\n",
       "      <td>5</td>\n",
       "      <td>88.0</td>\n",
       "      <td>92</td>\n",
       "      <td>8.0</td>\n",
       "    </tr>\n",
       "    <tr>\n",
       "      <th>5</th>\n",
       "      <td>6</td>\n",
       "      <td>NaN</td>\n",
       "      <td>35</td>\n",
       "      <td>1.0</td>\n",
       "    </tr>\n",
       "    <tr>\n",
       "      <th>6</th>\n",
       "      <td>7</td>\n",
       "      <td>21.0</td>\n",
       "      <td>35</td>\n",
       "      <td>0.6</td>\n",
       "    </tr>\n",
       "    <tr>\n",
       "      <th>7</th>\n",
       "      <td>8</td>\n",
       "      <td>64.0</td>\n",
       "      <td>56</td>\n",
       "      <td>0.9</td>\n",
       "    </tr>\n",
       "    <tr>\n",
       "      <th>8</th>\n",
       "      <td>9</td>\n",
       "      <td>81.0</td>\n",
       "      <td>9</td>\n",
       "      <td>9.0</td>\n",
       "    </tr>\n",
       "    <tr>\n",
       "      <th>9</th>\n",
       "      <td>10</td>\n",
       "      <td>99.0</td>\n",
       "      <td>65</td>\n",
       "      <td>3.0</td>\n",
       "    </tr>\n",
       "  </tbody>\n",
       "</table>\n",
       "</div>"
      ],
      "text/plain": [
       "   Stutent_ID  Math_Score  Reading_Score  Hours_Studied\n",
       "0           1        76.0             82            2.0\n",
       "1           2        85.0             65            4.0\n",
       "2           3        34.0             23            2.0\n",
       "3           4        96.0             46            3.0\n",
       "4           5        88.0             92            8.0\n",
       "5           6         NaN             35            1.0\n",
       "6           7        21.0             35            0.6\n",
       "7           8        64.0             56            0.9\n",
       "8           9        81.0              9            9.0\n",
       "9          10        99.0             65            3.0"
      ]
     },
     "execution_count": 14,
     "metadata": {},
     "output_type": "execute_result"
    }
   ],
   "source": [
    "Data = {\n",
    "    'Stutent_ID' : [1,2,3,4,5,6,7,8,9,10],\n",
    "    'Math_Score' : [76,85,34,96,88,np.nan,21,64,81,99],\n",
    "    'Reading_Score' : [82,65,23,46,92,35,35,56,9,65],\n",
    "    'Hours_Studied' : [2,4,2,3,8,1,0.6,0.9,9,3]\n",
    "}\n",
    "df = pd.DataFrame(Data)\n",
    "df"
   ]
  },
  {
   "cell_type": "code",
   "execution_count": 15,
   "id": "83e6d54f-47c8-4ddd-925a-e5f3f3e15513",
   "metadata": {},
   "outputs": [
    {
     "data": {
      "text/plain": [
       "Stutent_ID       0\n",
       "Math_Score       1\n",
       "Reading_Score    0\n",
       "Hours_Studied    0\n",
       "dtype: int64"
      ]
     },
     "execution_count": 15,
     "metadata": {},
     "output_type": "execute_result"
    }
   ],
   "source": [
    "df.isnull().sum()"
   ]
  },
  {
   "cell_type": "code",
   "execution_count": 16,
   "id": "d7edd2c9-e01e-4f49-8ff6-626d6f7dbf6a",
   "metadata": {},
   "outputs": [
    {
     "name": "stderr",
     "output_type": "stream",
     "text": [
      "C:\\Users\\ASHISH BAGHMAR\\AppData\\Local\\Temp\\ipykernel_16784\\3090221053.py:1: FutureWarning: A value is trying to be set on a copy of a DataFrame or Series through chained assignment using an inplace method.\n",
      "The behavior will change in pandas 3.0. This inplace method will never work because the intermediate object on which we are setting values always behaves as a copy.\n",
      "\n",
      "For example, when doing 'df[col].method(value, inplace=True)', try using 'df.method({col: value}, inplace=True)' or df[col] = df[col].method(value) instead, to perform the operation inplace on the original object.\n",
      "\n",
      "\n",
      "  df['Math_Score'].fillna(df['Math_Score'].mean(),inplace = True)\n"
     ]
    }
   ],
   "source": [
    "df['Math_Score'].fillna(df['Math_Score'].mean(),inplace = True)"
   ]
  },
  {
   "cell_type": "code",
   "execution_count": 17,
   "id": "66ba796f-571c-4b90-a1b9-5fb0357ea94f",
   "metadata": {},
   "outputs": [
    {
     "data": {
      "text/plain": [
       "Stutent_ID       0\n",
       "Math_Score       0\n",
       "Reading_Score    0\n",
       "Hours_Studied    0\n",
       "dtype: int64"
      ]
     },
     "execution_count": 17,
     "metadata": {},
     "output_type": "execute_result"
    }
   ],
   "source": [
    "df.isnull().sum()"
   ]
  },
  {
   "cell_type": "code",
   "execution_count": 18,
   "id": "6cb45a5a-61c1-4e98-82ee-8114f432e88a",
   "metadata": {},
   "outputs": [
    {
     "data": {
      "image/png": "[encoded data removed]",
      "text/plain": [
       "<Figure size 1000x400 with 1 Axes>"
      ]
     },
     "metadata": {},
     "output_type": "display_data"
    }
   ],
   "source": [
    "import seaborn as sns\n",
    "import matplotlib.pyplot as plt\n",
    "plt.figure(figsize = (10,4))\n",
    "sns.boxplot(data=df[['Math_Score', 'Reading_Score', 'Hours_Studied']])\n",
    "plt.title('Boxplot for Outlier Detection')\n",
    "plt.show()"
   ]
  },
  {
   "cell_type": "code",
   "execution_count": 19,
   "id": "374a8dc5-d3a5-44b0-830d-a69937b9aa64",
   "metadata": {},
   "outputs": [
    {
     "name": "stdout",
     "output_type": "stream",
     "text": [
      "Lower:  33.847222222222214\n",
      "Upper:  119.29166666666667\n",
      "Outliers:  1\n",
      "Outlier Values:\n",
      "6    21.0\n",
      "Name: Math_Score, dtype: float64\n"
     ]
    }
   ],
   "source": [
    "def get_outliers(series):\n",
    "    Q1=series.quantile(0.25)\n",
    "    Q3=series.quantile(0.75)\n",
    "    IQR = Q3-Q1\n",
    "\n",
    "    lower_bound = Q1 - 1.5 * IQR\n",
    "    Upper_bound = Q3 + 1.5 * IQR\n",
    "\n",
    "    outliers = series[ (series < lower_bound) | (series > Upper_bound)]\n",
    "    return outliers, lower_bound, Upper_bound\n",
    "\n",
    "outliers, lower, upper = get_outliers(df[\"Math_Score\"])\n",
    "\n",
    "print(\"Lower: \", lower)\n",
    "print(\"Upper: \", upper)\n",
    "print(\"Outliers: \", len(outliers))\n",
    "print(\"Outlier Values:\")\n",
    "print(outliers.sort_values())\n"
   ]
  },
  {
   "cell_type": "code",
   "execution_count": 20,
   "id": "ce05d6ec-8205-4408-8c0e-3233f1d4c57a",
   "metadata": {},
   "outputs": [],
   "source": [
    "def cap_outliers(series):\n",
    "    Q1 = series.quantile(0.25)\n",
    "    Q3 = series.quantile(0.75)\n",
    "    IQR = Q3-Q1 \n",
    "    \n",
    "    lower_bound = Q1 - 1.5*IQR\n",
    "    upper_bound = Q3 + 1.5*IQR\n",
    "\n",
    "    return series.apply(lambda x:lower_bound if x < lower_bound else upper_bound if x > upper_bound else x)"
   ]
  },
  {
   "cell_type": "code",
   "execution_count": 21,
   "id": "5a8b7478-5b6e-4625-96b5-e1a67d933e06",
   "metadata": {},
   "outputs": [
    {
     "data": {
      "image/png": "[encoded data removed]",
      "text/plain": [
       "<Figure size 1200x500 with 2 Axes>"
      ]
     },
     "metadata": {},
     "output_type": "display_data"
    }
   ],
   "source": [
    "df['Math_Score_Capped'] = cap_outliers(df['Math_Score'])\n",
    "df['Hours_Studied_Capped'] = cap_outliers(df['Hours_Studied'])\n",
    "\n",
    "plt.figure(figsize = (12,5))\n",
    "plt.subplot(1,2,1)\n",
    "sns.boxplot(data=df[['Math_Score', 'Reading_Score', 'Hours_Studied']])\n",
    "plt.title('Boxplot for Outlier Detection')\n",
    "\n",
    "plt.subplot(1,2,2)\n",
    "sns.boxplot(data = df[['Math_Score_Capped','Reading_Score', 'Hours_Studied_Capped' ]])\n",
    "plt.title(\"After Winsorization\")\n",
    "\n",
    "plt.show()\n"
   ]
  },
  {
   "cell_type": "code",
   "execution_count": 22,
   "id": "9ebe9c09-f941-48e7-a6c7-acc8cf620b9b",
   "metadata": {},
   "outputs": [
    {
     "name": "stdout",
     "output_type": "stream",
     "text": [
      "Original Skew:  -1.1445895382626017\n",
      "Transformed Skew:  -1.6970457164291104\n",
      "   Stutent_ID  Math_Score  Reading_Score  Hours_Studied  Math_Score_Capped  \\\n",
      "0           1   76.000000             82            2.0          76.000000   \n",
      "1           2   85.000000             65            4.0          85.000000   \n",
      "2           3   34.000000             23            2.0          34.000000   \n",
      "3           4   96.000000             46            3.0          96.000000   \n",
      "4           5   88.000000             92            8.0          88.000000   \n",
      "5           6   71.555556             35            1.0          71.555556   \n",
      "6           7   21.000000             35            0.6          33.847222   \n",
      "7           8   64.000000             56            0.9          64.000000   \n",
      "8           9   81.000000              9            9.0          81.000000   \n",
      "9          10   99.000000             65            3.0          99.000000   \n",
      "\n",
      "   Hours_Studied_Capped  Log_Math_Score  Log_Hours_Studied  \n",
      "0                   2.0        4.343805           1.098612  \n",
      "1                   4.0        4.454347           1.609438  \n",
      "2                   2.0        3.555348           1.098612  \n",
      "3                   3.0        4.574711           1.386294  \n",
      "4                   7.5        4.488636           2.197225  \n",
      "5                   1.0        4.284353           0.693147  \n",
      "6                   0.6        3.091042           0.470004  \n",
      "7                   0.9        4.174387           0.641854  \n",
      "8                   7.5        4.406719           2.302585  \n",
      "9                   3.0        4.605170           1.386294  \n"
     ]
    }
   ],
   "source": [
    "df['Log_Math_Score'] = np.log1p(df['Math_Score'])\n",
    "df['Log_Hours_Studied'] = np.log1p(df['Hours_Studied'])\n",
    "print(\"Original Skew: \",df['Math_Score'].skew())\n",
    "print(\"Transformed Skew: \", df['Log_Math_Score'].skew())\n",
    "print(df)\n",
    "                                \n",
    "                                "
   ]
  },
  {
   "cell_type": "code",
   "execution_count": 23,
   "id": "e5758a33-fd48-401e-ab83-7c0192cfea6e",
   "metadata": {},
   "outputs": [
    {
     "data": {
      "image/png": "[encoded data removed]",
      "text/plain": [
       "<Figure size 1000x600 with 1 Axes>"
      ]
     },
     "metadata": {},
     "output_type": "display_data"
    }
   ],
   "source": [
    "plt.figure(figsize = (10,6))\n",
    "sns.boxplot(data=df[['Log_Math_Score', 'Reading_Score', 'Log_Hours_Studied']])\n",
    "plt.title(\"After SKewing\")\n",
    "plt.show()"
   ]
  }
 ],
 "metadata": {
  "kernelspec": {
   "display_name": "Python 3 (ipykernel)",
   "language": "python",
   "name": "python3"
  },
  "language_info": {
   "codemirror_mode": {
    "name": "ipython",
    "version": 3
   },
   "file_extension": ".py",
   "mimetype": "text/x-python",
   "name": "python",
   "nbconvert_exporter": "python",
   "pygments_lexer": "ipython3",
   "version": "3.12.7"
  }
 },
 "nbformat": 4,
 "nbformat_minor": 5
}
