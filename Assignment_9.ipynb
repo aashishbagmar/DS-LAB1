{
 "cells": [
  {
   "cell_type": "markdown",
   "id": "df1bc381",
   "metadata": {},
   "source": [
    "# Assignment 9 - Titanic Boxplot"
   ]
  },
  {
   "cell_type": "code",
   "execution_count": null,
   "id": "e41f0531",
   "metadata": {},
   "outputs": [],
   "source": [
    "\n",
    "import seaborn as sns\n",
    "import matplotlib.pyplot as plt\n",
    "\n",
    "# Load Titanic dataset\n",
    "titanic = sns.load_dataset('titanic')\n",
    "\n",
    "# Drop rows with missing 'age' values\n",
    "titanic = titanic.dropna(subset=['age'])\n",
    "\n",
    "# Plot box plot\n",
    "plt.figure(figsize=(8, 6))\n",
    "sns.boxplot(x='sex', y='age', hue='survived', data=titanic)\n",
    "plt.title('Age Distribution by Gender and Survival Status')\n",
    "plt.xlabel('Gender')\n",
    "plt.ylabel('Age')\n",
    "plt.legend(title='Survived', labels=['No', 'Yes'])\n",
    "plt.show()\n"
   ]
  }
 ],
 "metadata": {},
 "nbformat": 4,
 "nbformat_minor": 5
}
